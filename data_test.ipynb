{
 "cells": [
  {
   "cell_type": "code",
   "execution_count": 14,
   "id": "6400d732",
   "metadata": {},
   "outputs": [
    {
     "ename": "AttributeError",
     "evalue": "module 'load_data' has no attribute 'load_slb_data'",
     "output_type": "error",
     "traceback": [
      "\u001b[0;31m---------------------------------------------------------------------------\u001b[0m",
      "\u001b[0;31mAttributeError\u001b[0m                            Traceback (most recent call last)",
      "Cell \u001b[0;32mIn[15], line 8\u001b[0m\n\u001b[1;32m      5\u001b[0m \u001b[38;5;28;01mimport\u001b[39;00m \u001b[38;5;21;01mload_data\u001b[39;00m\n\u001b[1;32m      7\u001b[0m file \u001b[38;5;241m=\u001b[39m \u001b[38;5;124m\"\u001b[39m\u001b[38;5;124msvea_test3\u001b[39m\u001b[38;5;124m\"\u001b[39m\n\u001b[0;32m----> 8\u001b[0m svea_data, svea_desc \u001b[38;5;241m=\u001b[39m load_data\u001b[38;5;241m.\u001b[39mload_slb_data(file)\n\u001b[1;32m     10\u001b[0m \u001b[38;5;66;03m#För att välja mellan två olika tider på dygnet (alla dagar)\u001b[39;00m\n\u001b[1;32m     11\u001b[0m \u001b[38;5;28mprint\u001b[39m(svea_data\u001b[38;5;241m.\u001b[39mbetween_time(\u001b[38;5;124m'\u001b[39m\u001b[38;5;124m08:00\u001b[39m\u001b[38;5;124m'\u001b[39m,\u001b[38;5;124m'\u001b[39m\u001b[38;5;124m09:00\u001b[39m\u001b[38;5;124m'\u001b[39m))\n",
      "\u001b[0;31mAttributeError\u001b[0m: module 'load_data' has no attribute 'load_slb_data'"
     ]
    }
   ],
   "source": [
    "import json\n",
    "import pandas as pd\n",
    "import matplotlib.pyplot as plt\n",
    "import datetime\n",
    "import load_data\n",
    "\n",
    "file = \"svea_test3\"\n",
    "svea_data, svea_desc = load_data.load_slb_data(file)\n",
    "\n",
    "#För att välja mellan två olika tider på dygnet (alla dagar)\n",
    "print(svea_data.between_time('08:00','09:00'))\n",
    "\n",
    "#För att välja mellan två olika datum (tider)\n",
    "start = datetime.datetime(2025,5,25)\n",
    "end = datetime.datetime(2025,5,30)\n",
    "print(svea_data[start:end])\n",
    "\n",
    "#För att välja vilka gaser du får ut:\n",
    "svea_data[[\"NO2 (chemiluminescence) (ug/m3)\", \"CO (IR) (mg/m3)\"]].plot()\n",
    "plt.show()"
   ]
  }
 ],
 "metadata": {
  "kernelspec": {
   "display_name": "base",
   "language": "python",
   "name": "python3"
  },
  "language_info": {
   "codemirror_mode": {
    "name": "ipython",
    "version": 3
   },
   "file_extension": ".py",
   "mimetype": "text/x-python",
   "name": "python",
   "nbconvert_exporter": "python",
   "pygments_lexer": "ipython3",
   "version": "3.12.7"
  }
 },
 "nbformat": 4,
 "nbformat_minor": 5
}
