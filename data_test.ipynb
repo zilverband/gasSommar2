{
 "cells": [
  {
   "cell_type": "code",
   "execution_count": 3,
   "id": "6400d732",
   "metadata": {},
   "outputs": [
    {
     "name": "stdout",
     "output_type": "stream",
     "text": [
      "                          PM10     PM2.5     PM1.0          Air        Air  \\\n",
      "2016-05-23 08:00:00  12.639999  6.849632  5.947403  1008.899414  15.279999   \n",
      "2016-05-23 08:15:00  15.539993  7.275551    6.1474  1008.899414  15.609985   \n",
      "2016-05-23 08:30:00  18.409973  7.785179  6.443703  1008.899414  15.899994   \n",
      "2016-05-23 08:45:00  18.409973  8.259247  6.689621  1008.799805  16.349976   \n",
      "2016-05-23 09:00:00  18.469971  8.111115  6.745178  1008.799805  16.869995   \n",
      "...                        ...       ...       ...          ...        ...   \n",
      "2022-06-17 08:00:00   4.966003  2.848888   2.32148       1011.0  15.619995   \n",
      "2022-06-17 08:15:00   4.885002  2.709629  2.145191       1011.0  15.940002   \n",
      "2022-06-17 08:30:00   5.591003  2.988152  2.096298       1011.0  16.220001   \n",
      "2022-06-17 08:45:00   5.107002   2.67926   1.99333       1011.0  16.519989   \n",
      "2022-06-17 09:00:00  10.139999  3.138519  2.081482       1011.0  16.829987   \n",
      "\n",
      "                       Rel_hum        NO        NO2        NOx         O3  \\\n",
      "2016-05-23 08:00:00  60.869995  1.283936  13.636719  15.598572  72.763184   \n",
      "2016-05-23 08:15:00  61.079956  1.608955  17.053894   19.51236  72.314575   \n",
      "2016-05-23 08:30:00  61.279968   2.47142  22.036743   25.81308  66.892578   \n",
      "2016-05-23 08:45:00  60.709961   2.98288  23.020355  27.578186  74.272461   \n",
      "2016-05-23 09:00:00  59.759949  2.244896  18.167236  21.597443  67.086914   \n",
      "...                        ...       ...        ...        ...        ...   \n",
      "2022-06-17 08:00:00  81.300049   1.86742   6.621941   9.475357  24.606262   \n",
      "2022-06-17 08:15:00  78.869995  1.917549   6.948372   9.878387  25.474731   \n",
      "2022-06-17 08:30:00  77.030029   2.86607   7.817017  12.196396   25.94989   \n",
      "2022-06-17 08:45:00  75.650024   3.14769   7.487793  12.297501  26.301239   \n",
      "2022-06-17 09:00:00  74.369995  3.316391   7.759697  12.827103  26.428131   \n",
      "\n",
      "                            CO2       PM10  \n",
      "2016-05-23 08:00:00       411.5  19.077515  \n",
      "2016-05-23 08:15:00       411.5  23.253815  \n",
      "2016-05-23 08:30:00  411.599609  24.930511  \n",
      "2016-05-23 08:45:00  411.299805  26.588104  \n",
      "2016-05-23 09:00:00  410.399902   24.55899  \n",
      "...                         ...        ...  \n",
      "2022-06-17 08:00:00  429.700195   7.984093  \n",
      "2022-06-17 08:15:00  428.799805   6.802124  \n",
      "2022-06-17 08:30:00  428.299805   8.711563  \n",
      "2022-06-17 08:45:00  427.299805   9.743759  \n",
      "2022-06-17 09:00:00  426.799805  10.613007  \n",
      "\n",
      "[11085 rows x 12 columns]\n",
      "PM10                    PM10 (OPC) (ug/m3)\n",
      "PM2.5             PM2.5 (OPC, c15) (ug/m3)\n",
      "PM1.0             PM1.0 (OPC, c15) (ug/m3)\n",
      "Air                     Air pressure (hPa)\n",
      "Air                       Air temp (deg.C)\n",
      "Rel_hum                      Rel_hum (%RH)\n",
      "NO          NO (chemiluminescence) (ug/m3)\n",
      "NO2        NO2 (chemiluminescence) (ug/m3)\n",
      "NOx        NOx (chemiluminescence) (ug/m3)\n",
      "O3              O3 (UV-photmetric) (ug/m3)\n",
      "CO2                              CO2 (ppm)\n",
      "PM10              PM10 (TEOM, c14) (µg/m3)\n",
      "dtype: object\n",
      "Empty DataFrame\n",
      "Columns: [PM10, PM2.5, PM1.0, Air, Air, Rel_hum, NO, NO2, NOx, O3, CO2, PM10]\n",
      "Index: []\n"
     ]
    },
    {
     "ename": "KeyError",
     "evalue": "\"['CO'] not in index\"",
     "output_type": "error",
     "traceback": [
      "\u001b[0;31m---------------------------------------------------------------------------\u001b[0m",
      "\u001b[0;31mKeyError\u001b[0m                                  Traceback (most recent call last)",
      "Cell \u001b[0;32mIn[3], line 19\u001b[0m\n\u001b[1;32m     16\u001b[0m \u001b[38;5;28mprint\u001b[39m(svea_data[start:end])\n\u001b[1;32m     18\u001b[0m \u001b[38;5;66;03m#För att välja vilka gaser du får ut:\u001b[39;00m\n\u001b[0;32m---> 19\u001b[0m svea_data[[\u001b[38;5;124m\"\u001b[39m\u001b[38;5;124mNO2\u001b[39m\u001b[38;5;124m\"\u001b[39m, \u001b[38;5;124m\"\u001b[39m\u001b[38;5;124mCO\u001b[39m\u001b[38;5;124m\"\u001b[39m]]\u001b[38;5;241m.\u001b[39mplot()\n\u001b[1;32m     20\u001b[0m plt\u001b[38;5;241m.\u001b[39mshow()\n",
      "File \u001b[0;32m~/anaconda3/lib/python3.12/site-packages/pandas/core/frame.py:4108\u001b[0m, in \u001b[0;36mDataFrame.__getitem__\u001b[0;34m(self, key)\u001b[0m\n\u001b[1;32m   4106\u001b[0m     \u001b[38;5;28;01mif\u001b[39;00m is_iterator(key):\n\u001b[1;32m   4107\u001b[0m         key \u001b[38;5;241m=\u001b[39m \u001b[38;5;28mlist\u001b[39m(key)\n\u001b[0;32m-> 4108\u001b[0m     indexer \u001b[38;5;241m=\u001b[39m \u001b[38;5;28mself\u001b[39m\u001b[38;5;241m.\u001b[39mcolumns\u001b[38;5;241m.\u001b[39m_get_indexer_strict(key, \u001b[38;5;124m\"\u001b[39m\u001b[38;5;124mcolumns\u001b[39m\u001b[38;5;124m\"\u001b[39m)[\u001b[38;5;241m1\u001b[39m]\n\u001b[1;32m   4110\u001b[0m \u001b[38;5;66;03m# take() does not accept boolean indexers\u001b[39;00m\n\u001b[1;32m   4111\u001b[0m \u001b[38;5;28;01mif\u001b[39;00m \u001b[38;5;28mgetattr\u001b[39m(indexer, \u001b[38;5;124m\"\u001b[39m\u001b[38;5;124mdtype\u001b[39m\u001b[38;5;124m\"\u001b[39m, \u001b[38;5;28;01mNone\u001b[39;00m) \u001b[38;5;241m==\u001b[39m \u001b[38;5;28mbool\u001b[39m:\n",
      "File \u001b[0;32m~/anaconda3/lib/python3.12/site-packages/pandas/core/indexes/base.py:6200\u001b[0m, in \u001b[0;36mIndex._get_indexer_strict\u001b[0;34m(self, key, axis_name)\u001b[0m\n\u001b[1;32m   6197\u001b[0m \u001b[38;5;28;01melse\u001b[39;00m:\n\u001b[1;32m   6198\u001b[0m     keyarr, indexer, new_indexer \u001b[38;5;241m=\u001b[39m \u001b[38;5;28mself\u001b[39m\u001b[38;5;241m.\u001b[39m_reindex_non_unique(keyarr)\n\u001b[0;32m-> 6200\u001b[0m \u001b[38;5;28mself\u001b[39m\u001b[38;5;241m.\u001b[39m_raise_if_missing(keyarr, indexer, axis_name)\n\u001b[1;32m   6202\u001b[0m keyarr \u001b[38;5;241m=\u001b[39m \u001b[38;5;28mself\u001b[39m\u001b[38;5;241m.\u001b[39mtake(indexer)\n\u001b[1;32m   6203\u001b[0m \u001b[38;5;28;01mif\u001b[39;00m \u001b[38;5;28misinstance\u001b[39m(key, Index):\n\u001b[1;32m   6204\u001b[0m     \u001b[38;5;66;03m# GH 42790 - Preserve name from an Index\u001b[39;00m\n",
      "File \u001b[0;32m~/anaconda3/lib/python3.12/site-packages/pandas/core/indexes/base.py:6252\u001b[0m, in \u001b[0;36mIndex._raise_if_missing\u001b[0;34m(self, key, indexer, axis_name)\u001b[0m\n\u001b[1;32m   6249\u001b[0m     \u001b[38;5;28;01mraise\u001b[39;00m \u001b[38;5;167;01mKeyError\u001b[39;00m(\u001b[38;5;124mf\u001b[39m\u001b[38;5;124m\"\u001b[39m\u001b[38;5;124mNone of [\u001b[39m\u001b[38;5;132;01m{\u001b[39;00mkey\u001b[38;5;132;01m}\u001b[39;00m\u001b[38;5;124m] are in the [\u001b[39m\u001b[38;5;132;01m{\u001b[39;00maxis_name\u001b[38;5;132;01m}\u001b[39;00m\u001b[38;5;124m]\u001b[39m\u001b[38;5;124m\"\u001b[39m)\n\u001b[1;32m   6251\u001b[0m not_found \u001b[38;5;241m=\u001b[39m \u001b[38;5;28mlist\u001b[39m(ensure_index(key)[missing_mask\u001b[38;5;241m.\u001b[39mnonzero()[\u001b[38;5;241m0\u001b[39m]]\u001b[38;5;241m.\u001b[39munique())\n\u001b[0;32m-> 6252\u001b[0m \u001b[38;5;28;01mraise\u001b[39;00m \u001b[38;5;167;01mKeyError\u001b[39;00m(\u001b[38;5;124mf\u001b[39m\u001b[38;5;124m\"\u001b[39m\u001b[38;5;132;01m{\u001b[39;00mnot_found\u001b[38;5;132;01m}\u001b[39;00m\u001b[38;5;124m not in index\u001b[39m\u001b[38;5;124m\"\u001b[39m)\n",
      "\u001b[0;31mKeyError\u001b[0m: \"['CO'] not in index\""
     ]
    }
   ],
   "source": [
    "import json\n",
    "import pandas as pd\n",
    "import matplotlib.pyplot as plt\n",
    "import datetime\n",
    "import load_data\n",
    "\n",
    "file = \"torkel\"\n",
    "svea_data, svea_desc = load_data.load_slb_data(file)\n",
    "\n",
    "#För att välja mellan två olika tider på dygnet (alla dagar)\n",
    "print(svea_data.between_time('08:00','09:00'))\n",
    "print(svea_desc)\n",
    "#För att välja mellan två olika datum (tider)\n",
    "start = datetime.datetime(2025,5,25)\n",
    "end = datetime.datetime(2025,5,30)\n",
    "print(svea_data[start:end])\n",
    "\n",
    "#För att välja vilka gaser du får ut:\n",
    "svea_data[[\"NO2\", \"CO\"]].plot()\n",
    "plt.show()"
   ]
  }
 ],
 "metadata": {
  "kernelspec": {
   "display_name": "base",
   "language": "python",
   "name": "python3"
  },
  "language_info": {
   "codemirror_mode": {
    "name": "ipython",
    "version": 3
   },
   "file_extension": ".py",
   "mimetype": "text/x-python",
   "name": "python",
   "nbconvert_exporter": "python",
   "pygments_lexer": "ipython3",
   "version": "3.12.7"
  }
 },
 "nbformat": 4,
 "nbformat_minor": 5
}
